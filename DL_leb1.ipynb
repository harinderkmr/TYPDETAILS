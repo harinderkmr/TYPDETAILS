{
  "nbformat": 4,
  "nbformat_minor": 0,
  "metadata": {
    "colab": {
      "provenance": [],
      "authorship_tag": "ABX9TyNmdXhdNiebSMrhF7A88ENI",
      "include_colab_link": true
    },
    "kernelspec": {
      "name": "python3",
      "display_name": "Python 3"
    },
    "language_info": {
      "name": "python"
    }
  },
  "cells": [
    {
      "cell_type": "markdown",
      "metadata": {
        "id": "view-in-github",
        "colab_type": "text"
      },
      "source": [
        "<a href=\"https://colab.research.google.com/github/harinderkmr/TYPDETAILS/blob/main/DL_leb1.ipynb\" target=\"_parent\"><img src=\"https://colab.research.google.com/assets/colab-badge.svg\" alt=\"Open In Colab\"/></a>"
      ]
    },
    {
      "cell_type": "code",
      "execution_count": 10,
      "metadata": {
        "id": "lqI__ALYXHDK"
      },
      "outputs": [],
      "source": [
        "import numpy as np\n",
        "\n",
        "from sklearn.datasets import load_iris\n",
        "from sklearn.linear_model import Perceptron\n",
        "\n",
        "iris=load_iris(as_frame=True)\n",
        "x = iris.data[[\"petal length (cm)\",\"petal width (cm)\"]].values\n",
        "y=(iris.target==0)\n",
        "\n",
        "per_clf=Perceptron(random_state=42)\n",
        "\n",
        "per_clf.fit(x,y)\n",
        "\n",
        "x_new=[[2,0.5],[3,1]]\n",
        "y_pred=per_clf.predict(x_new)\n"
      ]
    }
  ]
}